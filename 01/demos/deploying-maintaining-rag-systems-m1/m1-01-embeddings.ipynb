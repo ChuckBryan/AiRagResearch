{
 "cells": [
  {
   "cell_type": "markdown",
   "metadata": {},
   "source": [
    "## Pluralsight Course : Building and Deploying RAG in Production\n",
    "\n",
    "#### Demo: Embeddings"
   ]
  },
  {
   "cell_type": "code",
   "execution_count": 1,
   "metadata": {},
   "outputs": [],
   "source": [
    "# Code tested on Python 3.10.X\n",
    "!pip install -qqq openai"
   ]
  },
  {
   "cell_type": "code",
   "execution_count": null,
   "metadata": {},
   "outputs": [],
   "source": [
    "import os\n",
    "# Load API key from environment (optionally from a .env file)\n",
    "try:\n",
    "    from dotenv import load_dotenv  # pip install python-dotenv (if not available)\n",
    "    load_dotenv()\n",
    "except Exception:\n",
    "    pass\n",
    "\n",
    "if not os.getenv(\"OPENAI_API_KEY\"):\n",
    "    raise RuntimeError(\n",
    "        \"OPENAI_API_KEY is not set. Export it in your shell or put it in a .env file.\"\n",
    "    )"
   ]
  },
  {
   "cell_type": "code",
   "execution_count": 3,
   "metadata": {},
   "outputs": [
    {
     "name": "stdout",
     "output_type": "stream",
     "text": [
      "Embedding length : 1536\n",
      "[0.01558085810393095, -0.026025712490081787, -0.021778631955385208, -0.0029013485182076693, 0.016679666936397552]\n"
     ]
    }
   ],
   "source": [
    "from openai import OpenAI\n",
    "\n",
    "# create openAI client\n",
    "client = OpenAI()\n",
    "\n",
    "# create embeddings on sample input\n",
    "response = client.embeddings.create(\n",
    "    input=\"the sky is blue\",\n",
    "    model=\"text-embedding-3-small\" # try different model \n",
    "    #https://platform.openai.com/docs/guides/embeddings/embedding-models\n",
    ")\n",
    "\n",
    "# print embeddings length\n",
    "print(f\"Embedding length : {len(response.data[0].embedding)}\")\n",
    "\n",
    "# print embeddings\n",
    "print(response.data[0].embedding[:5])"
   ]
  },
  {
   "cell_type": "code",
   "execution_count": null,
   "metadata": {},
   "outputs": [],
   "source": []
  }
 ],
 "metadata": {
  "kernelspec": {
   "display_name": "Python 3",
   "language": "python",
   "name": "python3"
  },
  "language_info": {
   "codemirror_mode": {
    "name": "ipython",
    "version": 3
   },
   "file_extension": ".py",
   "mimetype": "text/x-python",
   "name": "python",
   "nbconvert_exporter": "python",
   "pygments_lexer": "ipython3",
   "version": "3.9.2"
  }
 },
 "nbformat": 4,
 "nbformat_minor": 2
}
